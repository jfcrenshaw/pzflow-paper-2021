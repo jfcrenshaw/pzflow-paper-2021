{
 "cells": [
  {
   "cell_type": "markdown",
   "metadata": {},
   "source": [
    "This notebook demonstrates how samples from a flow can be degraded to simulate different systematics."
   ]
  },
  {
   "cell_type": "code",
   "execution_count": 1,
   "metadata": {},
   "outputs": [],
   "source": [
    "import numpy as np\n",
    "import matplotlib.pyplot as plt\n",
    "from scipy.stats import entropy\n",
    "import pzflow\n",
    "from pzflow import Flow\n",
    "from pzflow.bijectors import Chain, ColorTransform, InvSoftplus, StandardScaler, RollingSplineCoupling\n",
    "from utils import InvRedshiftIncompleteness, LineConfusion, photoz_stats"
   ]
  },
  {
   "cell_type": "code",
   "execution_count": 2,
   "metadata": {},
   "outputs": [],
   "source": [
    "# plotting style\n",
    "plt.style.use('../paper.mplstyle')\n",
    "twocol = 7.1014\n",
    "onecol = 3.35"
   ]
  },
  {
   "cell_type": "markdown",
   "metadata": {},
   "source": [
    "First, we will demonstrate the `InvRedshiftIncompleteness` degrader. It applies a selection function, which keeps galaxies with probability $p_{\\text{keep}}(z) = \\min(1, \\frac{z_p}{z})$, where $z_p$ is the ''pivot'' redshift. We'll use $z_p = 0.8$.\n",
    "\n",
    "Let's create a samples from a creator with and without this selection function, and compare their redshift distributions."
   ]
  },
  {
   "cell_type": "code",
   "execution_count": 3,
   "metadata": {},
   "outputs": [],
   "source": [
    "flow = Flow(file=\"saved-flows/desc-dc2-dr6-redshift-flow.pkl\")"
   ]
  },
  {
   "cell_type": "code",
   "execution_count": 4,
   "metadata": {},
   "outputs": [],
   "source": [
    "complete_sample = flow.sample(100000, seed=0)\n",
    "incomplete_sample = InvRedshiftIncompleteness(0.8)(flow.sample(150000, seed=0))[:100000]"
   ]
  },
  {
   "cell_type": "code",
   "execution_count": 5,
   "metadata": {},
   "outputs": [
    {
     "data": {
      "image/png": "[encoded data removed]",
      "text/plain": [
       "<Figure size 502.5x502.5 with 1 Axes>"
      ]
     },
     "metadata": {
      "needs_background": "light"
     },
     "output_type": "display_data"
    }
   ],
   "source": [
    "fig, ax = plt.subplots()\n",
    "ax.hist(complete_sample['redshift'], bins=40, range=(0, 3), histtype='step', label=\"Original\", zorder=10)\n",
    "ax.hist(incomplete_sample['redshift'], bins=40, range=(0, 3), histtype='step', label=\"Degraded\")\n",
    "ax.legend()\n",
    "ax.set(xlabel=\"Redshift\", ylabel=\"Number of galaxies\", xlim=(0, 3))\n",
    "plt.show()"
   ]
  },
  {
   "cell_type": "markdown",
   "metadata": {},
   "source": [
    "We can see that the biased samples have more low redshift galaxies, and a deficit of galaxies with redshift > 0.8.\n",
    "\n",
    "Now let's train a flow as a photo-z estimator on the degraded sample."
   ]
  },
  {
   "cell_type": "code",
   "execution_count": 6,
   "metadata": {},
   "outputs": [],
   "source": [
    "# set the Color Transform reference index\n",
    "# to use the r band as the reference magnitude\n",
    "ref_idx = incomplete_sample.columns.get_loc(\"r\")\n",
    "# set the column indices for the magnitudes we want colors from\n",
    "mag_idx = [incomplete_sample.columns.get_loc(col) for col in [\"u\",\"g\",\"r\",\"i\",\"z\",\"y\"]]\n",
    "\n",
    "# set the inverse softplus parameters, \n",
    "# to ensure that sampled redshifts are positive\n",
    "column_idx = 0\n",
    "sharpness = 10\n",
    "\n",
    "# calculate the mean and standard deviations of the dimensions\n",
    "# note that on this side of the color transform, we are working\n",
    "# in color space, so I calculate the mean and std dev of these \n",
    "# variables instead of the raw magnitudes\n",
    "data_temp = np.array([incomplete_sample['redshift'], \n",
    "                      incomplete_sample['r'], \n",
    "                      incomplete_sample['u'] - incomplete_sample['g'], \n",
    "                      incomplete_sample['g'] - incomplete_sample['r'], \n",
    "                      incomplete_sample['r'] - incomplete_sample['i'], \n",
    "                      incomplete_sample['i'] - incomplete_sample['z'], \n",
    "                      incomplete_sample['z'] - incomplete_sample['y']]).T\n",
    "\n",
    "means = data_temp.mean(axis=0)\n",
    "stds = data_temp.std(axis=0)\n",
    "del data_temp\n",
    "\n",
    "# set number of layers in the RollingSplineCoupling\n",
    "# equal to the input dimension\n",
    "nlayers = incomplete_sample.shape[1]\n",
    "\n",
    "# construct our bijector\n",
    "# by chaining all these layers\n",
    "bijector = Chain(\n",
    "    ColorTransform(ref_idx, mag_idx),\n",
    "    InvSoftplus(column_idx, sharpness),\n",
    "    StandardScaler(means, stds),\n",
    "    RollingSplineCoupling(nlayers, K=2),\n",
    ")"
   ]
  },
  {
   "cell_type": "code",
   "execution_count": 7,
   "metadata": {},
   "outputs": [
    {
     "name": "stdout",
     "output_type": "stream",
     "text": [
      "Training 200 epochs \n",
      "Loss:\n",
      "6.6586\n",
      "-2.5418\n",
      "-4.7283\n",
      "-5.5253\n",
      "-5.7714\n",
      "-5.8941\n",
      "-6.1419\n",
      "-6.3596\n",
      "-6.2946\n",
      "-6.4908\n",
      "-6.4286\n",
      "-6.4742\n",
      "-6.5842\n",
      "-6.6139\n",
      "-6.7113\n",
      "-6.6973\n",
      "-6.7054\n",
      "-6.7473\n",
      "-6.7541\n",
      "-6.7166\n",
      "-6.7483\n",
      "CPU times: user 6min 45s, sys: 10min 27s, total: 17min 12s\n",
      "Wall time: 6min 41s\n"
     ]
    }
   ],
   "source": [
    "%%time\n",
    "incomplete_flow = Flow(incomplete_sample.columns, bijector)\n",
    "incomplete_losses = incomplete_flow.train(incomplete_sample, epochs=200, verbose=True)"
   ]
  },
  {
   "cell_type": "code",
   "execution_count": 8,
   "metadata": {},
   "outputs": [],
   "source": [
    "incomplete_flow.info = f\"\"\"\n",
    "Flow for the forward model section of the pzflow paper.\n",
    "Trained on an incomplete set of 100,000 galaxies from DESC DC2 DR6.\n",
    "\n",
    "This flow was created with pzflow version {pzflow.__version__}\n",
    "\"\"\"\n",
    "incomplete_flow.save(\"saved-flows/incomplete-redshift-flow.pkl\")"
   ]
  },
  {
   "cell_type": "markdown",
   "metadata": {},
   "source": [
    "Now, let's demonstrate `LineConfusion`. This is a degrader that simulates spectroscopic errors resulting from the confusion of different emission lines.\n",
    "\n",
    "Let's use the `LineConfusion` degrader to create an `OxygenLineConfusion` degrader, in which 2% of [OII] lines are mistaken as [OIII] lines, and 1% of [OIII] lines are mistaken as [OII] lines.\n",
    "\n",
    "Again, we will make samples with and without this degradation, this time comparing the spec-z's"
   ]
  },
  {
   "cell_type": "code",
   "execution_count": 18,
   "metadata": {},
   "outputs": [],
   "source": [
    "def OxygenLineConfusion(data, seed=None):\n",
    "    OII = 3727\n",
    "    OIII = 5007\n",
    "    \n",
    "    data = LineConfusion(true_wavelen=OII, wrong_wavelen=OIII, frac_wrong=0.02)(data, seed)\n",
    "    data = LineConfusion(true_wavelen=OIII, wrong_wavelen=OII, frac_wrong=0.01)(data, seed)\n",
    "    return data"
   ]
  },
  {
   "cell_type": "code",
   "execution_count": 12,
   "metadata": {},
   "outputs": [],
   "source": [
    "specz_err_sample = OxygenLineConfusion(complete_sample, seed=0)"
   ]
  },
  {
   "cell_type": "code",
   "execution_count": 13,
   "metadata": {},
   "outputs": [
    {
     "data": {
      "image/png": "[encoded data removed]",
      "text/plain": [
       "<Figure size 502.5x502.5 with 1 Axes>"
      ]
     },
     "metadata": {
      "needs_background": "light"
     },
     "output_type": "display_data"
    }
   ],
   "source": [
    "fig, ax = plt.subplots()\n",
    "ax.scatter(complete_sample[\"redshift\"], specz_err_sample[\"redshift\"], s=0.1)\n",
    "ax.set(xlabel=\"True redshift\", ylabel=\"spec-z\")\n",
    "plt.show()"
   ]
  },
  {
   "cell_type": "markdown",
   "metadata": {},
   "source": [
    "The galaxies above the line y=x are the [OII] -> [OIII] galaxies, while the ones below are the [OIII] -> [OII] galaxies.\n",
    "\n",
    "Now let's train a flow as a photo-z estimator on the sample with spec-z errors."
   ]
  },
  {
   "cell_type": "code",
   "execution_count": 14,
   "metadata": {},
   "outputs": [
    {
     "name": "stdout",
     "output_type": "stream",
     "text": [
      "Training 200 epochs \n",
      "Loss:\n",
      "6.7344\n",
      "-1.2468\n",
      "-4.0458\n",
      "-4.0254\n",
      "-4.8840\n",
      "-5.0377\n",
      "-5.1372\n",
      "-5.3321\n",
      "-5.5073\n",
      "-5.4359\n",
      "-5.5407\n",
      "-5.5475\n",
      "-5.7036\n",
      "-5.6764\n",
      "-5.6746\n",
      "-5.7812\n",
      "-5.7174\n",
      "-5.7268\n",
      "-5.8093\n",
      "-5.9117\n",
      "-5.9212\n",
      "CPU times: user 6min 1s, sys: 51.7 s, total: 6min 52s\n",
      "Wall time: 3min 46s\n"
     ]
    }
   ],
   "source": [
    "%%time\n",
    "specz_err_flow = Flow(specz_err_sample.columns, bijector)\n",
    "specz_err_losses = specz_err_flow.train(specz_err_sample, epochs=200, verbose=True)"
   ]
  },
  {
   "cell_type": "code",
   "execution_count": 15,
   "metadata": {},
   "outputs": [],
   "source": [
    "specz_err_flow.info = f\"\"\"\n",
    "Flow for the forward model section of the pzflow paper.\n",
    "Trained on a set of 100,000 galaxies with spec-z errors from DESC DC2 DR6.\n",
    "\n",
    "This flow was created with pzflow version {pzflow.__version__}\n",
    "\"\"\"\n",
    "specz_err_flow.save(\"saved-flows/specz-err-redshift-flow.pkl\")"
   ]
  },
  {
   "cell_type": "markdown",
   "metadata": {},
   "source": [
    "Now let's train one more flow on the complete sample, to serve as a benchmark for photo-z estimation."
   ]
  },
  {
   "cell_type": "code",
   "execution_count": 61,
   "metadata": {},
   "outputs": [],
   "source": [
    "# set the Color Transform reference index\n",
    "# to use the r band as the reference magnitude\n",
    "ref_idx = complete_sample.columns.get_loc(\"r\")\n",
    "# set the column indices for the magnitudes we want colors from\n",
    "mag_idx = [complete_sample.columns.get_loc(col) for col in [\"u\",\"g\",\"r\",\"i\",\"z\",\"y\"]]\n",
    "\n",
    "# set the inverse softplus parameters, \n",
    "# to ensure that sampled redshifts are positive\n",
    "column_idx = 0\n",
    "sharpness = 10\n",
    "\n",
    "# calculate the mean and standard deviations of the dimensions\n",
    "# note that on this side of the color transform, we are working\n",
    "# in color space, so I calculate the mean and std dev of these \n",
    "# variables instead of the raw magnitudes\n",
    "data_temp = np.array([complete_sample['redshift'], \n",
    "                      complete_sample['r'], \n",
    "                      complete_sample['u'] - complete_sample['g'], \n",
    "                      complete_sample['g'] - complete_sample['r'], \n",
    "                      complete_sample['r'] - complete_sample['i'], \n",
    "                      complete_sample['i'] - complete_sample['z'], \n",
    "                      complete_sample['z'] - complete_sample['y']]).T\n",
    "\n",
    "means = data_temp.mean(axis=0)\n",
    "stds = data_temp.std(axis=0)\n",
    "del data_temp\n",
    "\n",
    "# set number of layers in the RollingSplineCoupling\n",
    "# equal to the input dimension\n",
    "nlayers = complete_sample.shape[1]\n",
    "\n",
    "# construct our bijector\n",
    "# by chaining all these layers\n",
    "bijector = Chain(\n",
    "    ColorTransform(ref_idx, mag_idx),\n",
    "    InvSoftplus(column_idx, sharpness),\n",
    "    StandardScaler(means, stds),\n",
    "    RollingSplineCoupling(nlayers, K=2),\n",
    ")"
   ]
  },
  {
   "cell_type": "code",
   "execution_count": 62,
   "metadata": {},
   "outputs": [
    {
     "name": "stdout",
     "output_type": "stream",
     "text": [
      "Training 200 epochs \n",
      "Loss:\n",
      "6.9276\n",
      "-1.7661\n",
      "-4.4636\n",
      "-5.1643\n",
      "-5.3414\n",
      "-5.9191\n",
      "-5.9738\n",
      "-6.0285\n",
      "-6.1453\n",
      "-6.2383\n",
      "-6.2483\n",
      "-6.2828\n",
      "-6.2901\n",
      "-6.4341\n",
      "-6.2502\n",
      "-6.5080\n",
      "-6.3622\n",
      "-6.4991\n",
      "-6.5441\n",
      "-6.5639\n",
      "-6.5531\n",
      "CPU times: user 6min 33s, sys: 59.7 s, total: 7min 32s\n",
      "Wall time: 4min 12s\n"
     ]
    }
   ],
   "source": [
    "%%time\n",
    "complete_flow = Flow(complete_sample.columns, bijector)\n",
    "complete_losses = complete_flow.train(complete_sample, epochs=200, verbose=True)"
   ]
  },
  {
   "cell_type": "code",
   "execution_count": 77,
   "metadata": {},
   "outputs": [],
   "source": [
    "complete_flow.save(\"saved-flows/complete-redshift-flow.pkl\")"
   ]
  },
  {
   "cell_type": "markdown",
   "metadata": {},
   "source": [
    "Load all the flows trained above."
   ]
  },
  {
   "cell_type": "code",
   "execution_count": 3,
   "metadata": {},
   "outputs": [],
   "source": [
    "flow = Flow(file=\"saved-flows/desc-dc2-dr6-redshift-flow.pkl\")\n",
    "complete_flow = Flow(file=\"saved-flows/complete-redshift-flow.pkl\")\n",
    "incomplete_flow = Flow(file=\"saved-flows/incomplete-redshift-flow.pkl\")\n",
    "specz_err_flow = Flow(file=\"saved-flows/specz-err-redshift-flow.pkl\")"
   ]
  },
  {
   "cell_type": "code",
   "execution_count": 4,
   "metadata": {},
   "outputs": [],
   "source": [
    "complete_sample = flow.sample(100000, seed=0)"
   ]
  },
  {
   "cell_type": "markdown",
   "metadata": {},
   "source": [
    "Let's calculate a bunch of posteriors and print some stats"
   ]
  },
  {
   "cell_type": "code",
   "execution_count": 5,
   "metadata": {},
   "outputs": [],
   "source": [
    "grid = np.arange(0, 3.02, 0.02)\n",
    "true_pdfs = flow.posterior(complete_sample, column=\"redshift\", grid=grid, batch_size=10000)\n",
    "complete_pdfs = complete_flow.posterior(complete_sample, column=\"redshift\", grid=grid, batch_size=10000)\n",
    "incomplete_pdfs = incomplete_flow.posterior(complete_sample, column=\"redshift\", grid=grid, batch_size=10000)\n",
    "specz_err_pdfs = specz_err_flow.posterior(complete_sample, column=\"redshift\", grid=grid, batch_size=10000)"
   ]
  },
  {
   "cell_type": "code",
   "execution_count": 9,
   "metadata": {},
   "outputs": [],
   "source": [
    "def zmode(pdfs):\n",
    "    return grid[np.argmax(pdfs, axis=1)]"
   ]
  },
  {
   "cell_type": "code",
   "execution_count": 7,
   "metadata": {},
   "outputs": [
    {
     "name": "stdout",
     "output_type": "stream",
     "text": [
      "Median KLDiv of true: 0.0\n",
      "Median KLDiv of complete: 0.21246454119682312\n",
      "Median KLDiv of incomplete: 0.23727597296237946\n",
      "Median KLDiv of specz_err: 0.29101699590682983\n"
     ]
    }
   ],
   "source": [
    "for name, pdfs in zip([\"true\", \"complete\", \"incomplete\", \"specz_err\"],\n",
    "                      [true_pdfs, complete_pdfs, incomplete_pdfs, specz_err_pdfs]):\n",
    "    print(f\"Median KLDiv of {name}: {np.median(entropy(pdfs, qk=true_pdfs, axis=1))}\")"
   ]
  },
  {
   "cell_type": "code",
   "execution_count": 15,
   "metadata": {},
   "outputs": [
    {
     "name": "stdout",
     "output_type": "stream",
     "text": [
      "true: bias - -0.00004, std - 0.005, fout - 0.043\n",
      "complete: bias - 0.00032, std - 0.006, fout - 0.057\n",
      "incomplete: bias - 0.00009, std - 0.006, fout - 0.066\n",
      "specz_err: bias - 0.00054, std - 0.006, fout - 0.058\n"
     ]
    }
   ],
   "source": [
    "for name, pdfs in zip([\"true\", \"complete\", \"incomplete\", \"specz_err\"],\n",
    "                      [true_pdfs, complete_pdfs, incomplete_pdfs, specz_err_pdfs]):\n",
    "    bias, sig, fout = photoz_stats(zmode(pdfs), complete_sample[\"redshift\"].values)\n",
    "    print(f\"{name}: bias - {bias:.5f}, std - {sig:.3f}, fout - {fout:.3f}\")"
   ]
  },
  {
   "cell_type": "markdown",
   "metadata": {},
   "source": [
    "Let's also make a plot showing these two biases"
   ]
  },
  {
   "cell_type": "code",
   "execution_count": 19,
   "metadata": {},
   "outputs": [],
   "source": [
    "incomplete_sample = InvRedshiftIncompleteness(0.8)(flow.sample(150000, seed=0))[:100000]\n",
    "specz_err_sample = OxygenLineConfusion(complete_sample, seed=0)"
   ]
  },
  {
   "cell_type": "code",
   "execution_count": 22,
   "metadata": {},
   "outputs": [
    {
     "data": {
      "image/png": "[encoded data removed]",
      "text/plain": [
       "<Figure size 1065.21x502.5 with 2 Axes>"
      ]
     },
     "metadata": {
      "needs_background": "light"
     },
     "output_type": "display_data"
    }
   ],
   "source": [
    "fig, (ax1, ax2) = plt.subplots(1, 2, figsize=(twocol, onecol), constrained_layout=True)\n",
    "\n",
    "ax1.hist(complete_sample['redshift'], bins=40, range=(0, 3), histtype='step', label=\"Original\", zorder=10)\n",
    "ax1.hist(incomplete_sample['redshift'], bins=40, range=(0, 3), histtype='step', label=\"Degraded\")\n",
    "ax1.legend()\n",
    "ax1.set(xlabel=\"Redshift\", ylabel=\"Number of galaxies\", xlim=(0, 3))\n",
    "\n",
    "ax2.scatter(complete_sample[\"redshift\"], specz_err_sample[\"redshift\"], s=0.1)\n",
    "ax2.set(xlabel=\"True redshift\", ylabel=\"spec-z\")\n",
    "\n",
    "fig.savefig(\"figures/degradation-demo.pdf\")"
   ]
  },
  {
   "cell_type": "code",
   "execution_count": null,
   "metadata": {},
   "outputs": [],
   "source": []
  }
 ],
 "metadata": {
  "kernelspec": {
   "display_name": "Python [conda env:.conda-pzflow-paper]",
   "language": "python",
   "name": "conda-env-.conda-pzflow-paper-py"
  },
  "language_info": {
   "codemirror_mode": {
    "name": "ipython",
    "version": 3
   },
   "file_extension": ".py",
   "mimetype": "text/x-python",
   "name": "python",
   "nbconvert_exporter": "python",
   "pygments_lexer": "ipython3",
   "version": "3.9.2"
  }
 },
 "nbformat": 4,
 "nbformat_minor": 4
}
