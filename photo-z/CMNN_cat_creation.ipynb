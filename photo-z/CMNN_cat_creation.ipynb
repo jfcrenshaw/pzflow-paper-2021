{
  "nbformat": 4,
  "nbformat_minor": 0,
  "metadata": {
    "colab": {
      "name": "CMNN_cat_creation.ipynb",
      "provenance": [],
      "mount_file_id": "1SzbOf24caD2-2ZHDkJf_fw6BJ6OZh9Qp",
      "authorship_tag": "ABX9TyMnMrYt4AEC+HKt+4B5IWBs",
      "include_colab_link": true
    },
    "kernelspec": {
      "name": "python3",
      "display_name": "Python 3"
    },
    "language_info": {
      "name": "python"
    }
  },
  "cells": [
    {
      "cell_type": "markdown",
      "metadata": {
        "id": "view-in-github",
        "colab_type": "text"
      },
      "source": [
        "<a href=\"https://colab.research.google.com/github/jbkalmbach/pzflow-paper-2021/blob/main/photo-z/CMNN_cat_creation.ipynb\" target=\"_parent\"><img src=\"https://colab.research.google.com/assets/colab-badge.svg\" alt=\"Open In Colab\"/></a>"
      ]
    },
    {
      "cell_type": "markdown",
      "metadata": {
        "id": "erSU4JRNwtW_"
      },
      "source": [
        "# Catalog Creation\n",
        "\n",
        "This notebook uses the version of the [CMNN_Photoz_Estimator](https://github.com/dirac-institute/CMNN_Photoz_Estimator) catalog creation tools on the branch `issue/22/set_seed_train_test` to create train and test catalogs for our photo-z experiments in the paper.\n",
        "\n",
        "We start with a mock galaxy catalog of true magnitudes and use the CMNN code to generate a mock catalog with apparent magnitudes and errors consistent with a 10 year LSST survey."
      ]
    },
    {
      "cell_type": "code",
      "metadata": {
        "colab": {
          "base_uri": "https://localhost:8080/"
        },
        "id": "3yS7KRZmxGjE",
        "outputId": "6f2ff327-c70b-442f-bee3-c8c46b5143bb"
      },
      "source": [
        "# Get CMNN Version needed\n",
        "! git clone https://github.com/dirac-institute/CMNN_Photoz_Estimator.git --branch issue/22/set_seed_train_test"
      ],
      "execution_count": null,
      "outputs": [
        {
          "output_type": "stream",
          "text": [
            "Cloning into 'CMNN_Photoz_Estimator'...\n",
            "remote: Enumerating objects: 227, done.\u001b[K\n",
            "remote: Counting objects: 100% (190/190), done.\u001b[K\n",
            "remote: Compressing objects: 100% (142/142), done.\u001b[K\n",
            "remote: Total 227 (delta 117), reused 102 (delta 48), pack-reused 37\u001b[K\n",
            "Receiving objects: 100% (227/227), 86.84 MiB | 39.05 MiB/s, done.\n",
            "Resolving deltas: 100% (125/125), done.\n"
          ],
          "name": "stdout"
        }
      ]
    },
    {
      "cell_type": "code",
      "metadata": {
        "id": "sTxZMZPiwxFG"
      },
      "source": [
        "import numpy as np\n",
        "import os\n",
        "import sys\n",
        "import matplotlib.pyplot as plt\n",
        "%matplotlib inline"
      ],
      "execution_count": null,
      "outputs": []
    },
    {
      "cell_type": "code",
      "metadata": {
        "id": "xJURoHiyxSBd"
      },
      "source": [
        "# Add CMNN Photo z to path\n",
        "path_to_cmnn_estimation_code = '/content/CMNN_Photoz_Estimator/'\n",
        "sys.path.append(path_to_cmnn_estimation_code)\n",
        "\n",
        "# Import tool we need\n",
        "from cmnn_catalog import make_test_and_train"
      ],
      "execution_count": null,
      "outputs": []
    },
    {
      "cell_type": "code",
      "metadata": {
        "id": "2UTCd_IpxD4i"
      },
      "source": [
        "verbose = True\n",
        "\n",
        "# Take magnitude values from CMNN defaults\n",
        "train_m5 = [26.100, 27.400, 27.500, 26.800, 26.100, 24.900]\n",
        "\n",
        "test_m5 = [26.100, 27.400, 27.500, 26.800, 26.100, 24.900]\n",
        "\n",
        "test_mcut = [26.100, 27.400, 27.500, 25.000, 26.100, 24.900]\n",
        "\n",
        "train_mcut = [26.100, 27.400, 27.500, 25.000, 26.100, 24.900]\n",
        "\n",
        "runid = '1'\n",
        "\n",
        "force_idet = True\n",
        "\n",
        "force_gridet = True\n",
        "\n",
        "# Specify size of training and test sets\n",
        "train_N = 250000\n",
        "\n",
        "test_N = 50000\n",
        "\n",
        "# Minimum number of colors for galaxies\n",
        "# To start with we want test and training sets with all\n",
        "cmnn_minNc = 5\n",
        "\n",
        "# Specify location for output\n",
        "os.makedirs(f'/content/drive/MyDrive/DIRAC/pzflow/output/run_{runid}', exist_ok=True)\n",
        "output_dir = f'/content/drive/MyDrive/DIRAC/pzflow/output/run_{runid}'"
      ],
      "execution_count": null,
      "outputs": []
    },
    {
      "cell_type": "code",
      "metadata": {
        "colab": {
          "base_uri": "https://localhost:8080/"
        },
        "id": "y4QMljFYywDe",
        "outputId": "018c6ce4-4acb-43b5-c658-635d301e2937"
      },
      "source": [
        "# Download base catalog\n",
        "!gdown --id 1OJ0vRtzwJptyF-f4_34j4hvv4_E77mUE"
      ],
      "execution_count": null,
      "outputs": [
        {
          "output_type": "stream",
          "text": [
            "Downloading...\n",
            "From: https://drive.google.com/uc?id=1OJ0vRtzwJptyF-f4_34j4hvv4_E77mUE\n",
            "To: /content/LSST_galaxy_catalog_i25p3.dat.gz\n",
            "111MB [00:02, 44.8MB/s]\n"
          ],
          "name": "stdout"
        }
      ]
    },
    {
      "cell_type": "code",
      "metadata": {
        "id": "pW037kF60awF"
      },
      "source": [
        "# Extract base catalog file\n",
        "!gunzip LSST_galaxy_catalog_i25p3.dat.gz"
      ],
      "execution_count": null,
      "outputs": []
    },
    {
      "cell_type": "code",
      "metadata": {
        "colab": {
          "base_uri": "https://localhost:8080/"
        },
        "id": "5dmKrHOD1Sle",
        "outputId": "f4bd45aa-c367-44a0-853e-b86d8ae40e2f"
      },
      "source": [
        "! mkdir -p output/run_1/\n",
        "make_test_and_train(verbose, runid, test_m5, train_m5, test_mcut, train_mcut, force_idet, force_gridet, test_N, train_N, cmnn_minNc, 'LSST_galaxy_catalog_i25p3.dat', seed=42)\n",
        "! cp output/run_1/*.cat /content/drive/MyDrive/DIRAC/pzflow/output/run_1/"
      ],
      "execution_count": null,
      "outputs": [
        {
          "output_type": "stream",
          "text": [
            " \n",
            "Starting cmnn_catalog.make_test_and_train(),  2021-08-26 19:35:08.645160\n",
            "Read the mock catalog of true redshifts and magnitudes.\n",
            "Calculating magnitude errors.\n",
            "Calculating observed apparent magnitudes.\n",
            "Applying the magnitude cuts.\n",
            "Calculating colors.\n",
            "Opening and writing to  output/run_1/test.cat\n",
            "Opening and writing to  output/run_1/train.cat\n",
            "Wrote:  output/run_1/test.cat, output/run_1/train.cat\n"
          ],
          "name": "stdout"
        }
      ]
    },
    {
      "cell_type": "code",
      "metadata": {
        "colab": {
          "base_uri": "https://localhost:8080/"
        },
        "id": "wBS6oRQP3Qhy",
        "outputId": "939747ba-8d3a-44f3-dc3e-90265b3cb48a"
      },
      "source": [
        "!head /content/drive/MyDrive/DIRAC/pzflow/output/run_1/train.cat"
      ],
      "execution_count": null,
      "outputs": [
        {
          "output_type": "stream",
          "text": [
            "    5789583 0.90058196 25.448562  0.124823 25.635542  0.042729 25.454899  0.033699 24.888279  0.036172 24.562720  0.050165 24.472106  0.150306 -0.186980  0.131934  0.180643  0.054419  0.566619  0.049438  0.325560  0.061846  0.090614  0.158456 \n",
            "    9645863 2.01064400 24.952113  0.075436 24.813600  0.021939 24.856853  0.019434 24.923800  0.036793 24.752957  0.063623 24.804617  0.185715  0.138514  0.078562 -0.043254  0.029309 -0.066947  0.041610  0.170843  0.073496 -0.051660  0.196311 \n",
            "    1341356 0.55477380 25.836928  0.174945 25.816929  0.048413 24.947092  0.021429 24.600678  0.029065 24.472055  0.047449 24.657549  0.139597  0.019999  0.181521  0.869837  0.052944  0.346415  0.036111  0.128623  0.055644 -0.185494  0.147441 \n",
            "   13103201 0.62702690 24.177630  0.039932 24.087804  0.013474 23.529282  0.007172 23.085825  0.008598 22.980726  0.011430 22.932603  0.033431  0.089827  0.042143  0.558522  0.015264  0.443456  0.011197  0.105100  0.014303  0.048122  0.035331 \n",
            "   11756538 0.90088370 24.373186  0.047188 24.502362  0.017692 24.416018  0.013993 23.894312  0.015807 23.660528  0.021112 23.738579  0.064423 -0.129176  0.050396  0.086344  0.022557  0.521706  0.021111  0.233783  0.026374 -0.078051  0.067794 \n",
            "   14002571 2.01236320 23.496135  0.023485 23.153147  0.007423 23.159901  0.005580 23.211683  0.009435 23.190046  0.013574 23.168982  0.040537  0.342989  0.024630 -0.006755  0.009286 -0.051782  0.010961  0.021637  0.016530  0.021064  0.042749 \n",
            "    1154065 1.75105380 25.065122  0.071176 24.737030  0.021269 25.003531  0.022232 24.770348  0.033136 24.641162  0.049255 24.334587  0.133042  0.328092  0.074286 -0.266501  0.030767  0.233183  0.039903  0.129186  0.059364  0.306575  0.141867 \n",
            "    8598269 1.47518200 25.528105  0.121238 25.491938  0.038324 25.389049  0.030079 24.926932  0.035993 24.344444  0.038384 24.023476  0.076090  0.036167  0.127151  0.102889  0.048719  0.462117  0.046907  0.582488  0.052619  0.320968  0.085223 \n",
            "   10486939 0.61158216 23.916142  0.034222 23.822609  0.011156 23.119074  0.005460 22.631254  0.006285 22.488581  0.007176 22.375954  0.020534  0.093532  0.035995  0.703535  0.012421  0.487820  0.008326  0.142673  0.009539  0.112627  0.021752 \n",
            "   10383339 0.47528303 23.743960  0.028589 23.514608  0.009323 22.633140  0.005000 22.443847  0.005541 22.338024  0.006315 22.308829  0.018664  0.229353  0.030071  0.881468  0.010579  0.189293  0.007463  0.105823  0.008401  0.029195  0.019703 \n"
          ],
          "name": "stdout"
        }
      ]
    },
    {
      "cell_type": "code",
      "metadata": {
        "id": "LfQRqJCy49x9",
        "colab": {
          "base_uri": "https://localhost:8080/"
        },
        "outputId": "fe2cb4a0-6695-4e9e-a7c2-e0c8edbbe17a"
      },
      "source": [
        "!head /content/drive/MyDrive/DIRAC/pzflow/output/run_1/test.cat"
      ],
      "execution_count": null,
      "outputs": [
        {
          "output_type": "stream",
          "text": [
            "    5282600 0.64819190 24.773679  0.066454 24.486278  0.018180 23.715850  0.008217 23.031361  0.008153 22.725347  0.008862 22.603023  0.023841  0.287402  0.068896  0.770428  0.019951  0.684489  0.011576  0.306015  0.012042  0.122324  0.025435 \n",
            "    4530583 1.54744500 24.848797  0.067937 24.918624  0.023465 24.950455  0.021093 24.856045  0.033861 24.572990  0.048171 24.269002  0.109074 -0.069827  0.071875 -0.031831  0.031552  0.094410  0.039893  0.283055  0.058882  0.303988  0.119237 \n",
            "    5166333 0.98921716 25.269208  0.093680 25.284407  0.032201 25.073436  0.023355 24.519189  0.027131 23.974104  0.029300 23.839821  0.082798 -0.015200  0.099060  0.210971  0.039779  0.554247  0.035799  0.545085  0.039932  0.134283  0.087829 \n",
            "    2029680 0.65405510 24.949006  0.071989 24.243395  0.014922 23.126170  0.005467 22.293219  0.005033 21.992805  0.005000 21.866349  0.012312  0.705611  0.073520  1.117225  0.015892  0.832951  0.007431  0.300414  0.007095  0.126456  0.013289 \n",
            "   12802329 0.42824006 23.472365  0.023495 23.105329  0.007213 22.128869  0.005000 21.879126  0.005000 21.723269  0.005000 21.685455  0.010288  0.367036  0.024577  0.976460  0.008776  0.249743  0.007071  0.155857  0.007071  0.037814  0.011439 \n",
            "   14201721 1.52237610 24.272726  0.043008 24.309577  0.015604 24.379934  0.013484 24.194122  0.020161 23.868463  0.025597 23.492237  0.055985 -0.036850  0.045751 -0.070357  0.020623  0.185812  0.024255  0.325659  0.032583  0.376226  0.061559 \n",
            "    3399044 1.04424740 24.420484  0.049098 24.516193  0.018383 24.336154  0.013057 23.922522  0.016418 23.315179  0.015440 23.199336  0.043120 -0.095709  0.052427  0.180039  0.022548  0.413632  0.020976  0.607343  0.022537  0.115843  0.045801 \n",
            "    8313346 2.01307850 23.548912  0.025794 23.227919  0.007824 23.237016  0.005926 23.308992  0.010122 23.248040  0.014477 23.236094  0.042579  0.320993  0.026954 -0.009097  0.009815 -0.071977  0.011729  0.060952  0.017665  0.011946  0.044973 \n",
            "    7443398 1.07902690 23.050226  0.017991 23.234570  0.007828 22.837096  0.005000 22.412912  0.005459 21.713447  0.005000 21.696215  0.010258 -0.184344  0.019621  0.397475  0.009288  0.424184  0.007403  0.699466  0.007403  0.017231  0.011412 \n",
            "     499072 0.65215610 25.940248  0.199569 26.074210  0.058214 25.394428  0.030528 24.796921  0.034662 24.746468  0.055646 24.651787  0.160905 -0.133962  0.207887  0.679782  0.065733  0.597507  0.046189  0.050453  0.065559  0.094682  0.170255 \n"
          ],
          "name": "stdout"
        }
      ]
    },
    {
      "cell_type": "code",
      "metadata": {
        "id": "qCToAOma9un3"
      },
      "source": [
        ""
      ],
      "execution_count": null,
      "outputs": []
    }
  ]
}